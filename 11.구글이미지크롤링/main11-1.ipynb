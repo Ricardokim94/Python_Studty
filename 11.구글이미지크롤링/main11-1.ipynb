{
 "cells": [
  {
   "cell_type": "code",
   "execution_count": 1,
   "metadata": {},
   "outputs": [],
   "source": [
    "from webdriver_manager.chrome import ChromeDriverManager\n",
    "from selenium import webdriver\n",
    "\n",
    "driver = webdriver.Chrome(ChromeDriverManager().install())\n",
    "\n",
    "URL = 'http://www.google.co.kr/imghp'\n",
    "driver.get(url=URL)\n",
    "\n",
    "driver.implicitly_wait(time_to_wait=10)"
   ]
  },
  {
   "cell_type": "code",
   "execution_count": 5,
   "metadata": {},
   "outputs": [
    {
     "ename": "InvalidSelectorException",
     "evalue": "Message: invalid selector: An invalid or illegal selector was specified\n  (Session info: chrome=108.0.5359.125)\n",
     "output_type": "error",
     "traceback": [
      "\u001b[1;31m---------------------------------------------------------------------------\u001b[0m",
      "\u001b[1;31mInvalidSelectorException\u001b[0m                  Traceback (most recent call last)",
      "Cell \u001b[1;32mIn[5], line 3\u001b[0m\n\u001b[0;32m      1\u001b[0m \u001b[39mfrom\u001b[39;00m \u001b[39mselenium\u001b[39;00m\u001b[39m.\u001b[39;00m\u001b[39mwebdriver\u001b[39;00m\u001b[39m.\u001b[39;00m\u001b[39mcommon\u001b[39;00m\u001b[39m.\u001b[39;00m\u001b[39mkeys\u001b[39;00m \u001b[39mimport\u001b[39;00m Keys\n\u001b[1;32m----> 3\u001b[0m elem \u001b[39m=\u001b[39m driver\u001b[39m.\u001b[39;49mfind_element_by_css_selector(\u001b[39m'\u001b[39;49m\u001b[39m<input class=\u001b[39;49m\u001b[39m\"\u001b[39;49m\u001b[39mgLFyf\u001b[39;49m\u001b[39m\"\u001b[39;49m\u001b[39m jsaction=\u001b[39;49m\u001b[39m\"\u001b[39;49m\u001b[39mpaste:puy29d;\u001b[39;49m\u001b[39m\"\u001b[39;49m\u001b[39m maxlength=\u001b[39;49m\u001b[39m\"\u001b[39;49m\u001b[39m2048\u001b[39;49m\u001b[39m\"\u001b[39;49m\u001b[39m name=\u001b[39;49m\u001b[39m\"\u001b[39;49m\u001b[39mq\u001b[39;49m\u001b[39m\"\u001b[39;49m\u001b[39m type=\u001b[39;49m\u001b[39m\"\u001b[39;49m\u001b[39mtext\u001b[39;49m\u001b[39m\"\u001b[39;49m\u001b[39m aria-autocomplete=\u001b[39;49m\u001b[39m\"\u001b[39;49m\u001b[39mboth\u001b[39;49m\u001b[39m\"\u001b[39;49m\u001b[39m aria-haspopup=\u001b[39;49m\u001b[39m\"\u001b[39;49m\u001b[39mfalse\u001b[39;49m\u001b[39m\"\u001b[39;49m\u001b[39m autocapitalize=\u001b[39;49m\u001b[39m\"\u001b[39;49m\u001b[39moff\u001b[39;49m\u001b[39m\"\u001b[39;49m\u001b[39m autocomplete=\u001b[39;49m\u001b[39m\"\u001b[39;49m\u001b[39moff\u001b[39;49m\u001b[39m\"\u001b[39;49m\u001b[39m autocorrect=\u001b[39;49m\u001b[39m\"\u001b[39;49m\u001b[39moff\u001b[39;49m\u001b[39m\"\u001b[39;49m\u001b[39m autofocus=\u001b[39;49m\u001b[39m\"\u001b[39;49m\u001b[39m\"\u001b[39;49m\u001b[39m role=\u001b[39;49m\u001b[39m\"\u001b[39;49m\u001b[39mcombobox\u001b[39;49m\u001b[39m\"\u001b[39;49m\u001b[39m spellcheck=\u001b[39;49m\u001b[39m\"\u001b[39;49m\u001b[39mfalse\u001b[39;49m\u001b[39m\"\u001b[39;49m\u001b[39m title=\u001b[39;49m\u001b[39m\"\u001b[39;49m\u001b[39m검색\u001b[39;49m\u001b[39m\"\u001b[39;49m\u001b[39m value=\u001b[39;49m\u001b[39m\"\u001b[39;49m\u001b[39m\"\u001b[39;49m\u001b[39m aria-label=\u001b[39;49m\u001b[39m\"\u001b[39;49m\u001b[39m검색\u001b[39;49m\u001b[39m\"\u001b[39;49m\u001b[39m data-ved=\u001b[39;49m\u001b[39m\"\u001b[39;49m\u001b[39m0ahUKEwiGhO2I66_8AhUbfN4KHaL0ANMQ39UDCAM\u001b[39;49m\u001b[39m\"\u001b[39;49m\u001b[39m>\u001b[39;49m\u001b[39m'\u001b[39;49m)\n\u001b[0;32m      4\u001b[0m elem\u001b[39m.\u001b[39msend\u001b[39m.\u001b[39mKeys(\u001b[39m\"\u001b[39m\u001b[39m바다\u001b[39m\u001b[39m\"\u001b[39m)\n\u001b[0;32m      5\u001b[0m elem\u001b[39m.\u001b[39msend_Keys(Keys\u001b[39m.\u001b[39mRETURN)\n",
      "File \u001b[1;32mc:\\Users\\aspens\\AppData\\Local\\Programs\\Python\\Python38\\lib\\site-packages\\selenium\\webdriver\\remote\\webdriver.py:598\u001b[0m, in \u001b[0;36mWebDriver.find_element_by_css_selector\u001b[1;34m(self, css_selector)\u001b[0m\n\u001b[0;32m    582\u001b[0m \u001b[39mdef\u001b[39;00m \u001b[39mfind_element_by_css_selector\u001b[39m(\u001b[39mself\u001b[39m, css_selector):\n\u001b[0;32m    583\u001b[0m \u001b[39m    \u001b[39m\u001b[39m\"\"\"\u001b[39;00m\n\u001b[0;32m    584\u001b[0m \u001b[39m    Finds an element by css selector.\u001b[39;00m\n\u001b[0;32m    585\u001b[0m \n\u001b[1;32m   (...)\u001b[0m\n\u001b[0;32m    596\u001b[0m \u001b[39m        element = driver.find_element_by_css_selector('#foo')\u001b[39;00m\n\u001b[0;32m    597\u001b[0m \u001b[39m    \"\"\"\u001b[39;00m\n\u001b[1;32m--> 598\u001b[0m     \u001b[39mreturn\u001b[39;00m \u001b[39mself\u001b[39;49m\u001b[39m.\u001b[39;49mfind_element(by\u001b[39m=\u001b[39;49mBy\u001b[39m.\u001b[39;49mCSS_SELECTOR, value\u001b[39m=\u001b[39;49mcss_selector)\n",
      "File \u001b[1;32mc:\\Users\\aspens\\AppData\\Local\\Programs\\Python\\Python38\\lib\\site-packages\\selenium\\webdriver\\remote\\webdriver.py:976\u001b[0m, in \u001b[0;36mWebDriver.find_element\u001b[1;34m(self, by, value)\u001b[0m\n\u001b[0;32m    974\u001b[0m         by \u001b[39m=\u001b[39m By\u001b[39m.\u001b[39mCSS_SELECTOR\n\u001b[0;32m    975\u001b[0m         value \u001b[39m=\u001b[39m \u001b[39m'\u001b[39m\u001b[39m[name=\u001b[39m\u001b[39m\"\u001b[39m\u001b[39m%s\u001b[39;00m\u001b[39m\"\u001b[39m\u001b[39m]\u001b[39m\u001b[39m'\u001b[39m \u001b[39m%\u001b[39m value\n\u001b[1;32m--> 976\u001b[0m \u001b[39mreturn\u001b[39;00m \u001b[39mself\u001b[39;49m\u001b[39m.\u001b[39;49mexecute(Command\u001b[39m.\u001b[39;49mFIND_ELEMENT, {\n\u001b[0;32m    977\u001b[0m     \u001b[39m'\u001b[39;49m\u001b[39musing\u001b[39;49m\u001b[39m'\u001b[39;49m: by,\n\u001b[0;32m    978\u001b[0m     \u001b[39m'\u001b[39;49m\u001b[39mvalue\u001b[39;49m\u001b[39m'\u001b[39;49m: value})[\u001b[39m'\u001b[39m\u001b[39mvalue\u001b[39m\u001b[39m'\u001b[39m]\n",
      "File \u001b[1;32mc:\\Users\\aspens\\AppData\\Local\\Programs\\Python\\Python38\\lib\\site-packages\\selenium\\webdriver\\remote\\webdriver.py:321\u001b[0m, in \u001b[0;36mWebDriver.execute\u001b[1;34m(self, driver_command, params)\u001b[0m\n\u001b[0;32m    319\u001b[0m response \u001b[39m=\u001b[39m \u001b[39mself\u001b[39m\u001b[39m.\u001b[39mcommand_executor\u001b[39m.\u001b[39mexecute(driver_command, params)\n\u001b[0;32m    320\u001b[0m \u001b[39mif\u001b[39;00m response:\n\u001b[1;32m--> 321\u001b[0m     \u001b[39mself\u001b[39;49m\u001b[39m.\u001b[39;49merror_handler\u001b[39m.\u001b[39;49mcheck_response(response)\n\u001b[0;32m    322\u001b[0m     response[\u001b[39m'\u001b[39m\u001b[39mvalue\u001b[39m\u001b[39m'\u001b[39m] \u001b[39m=\u001b[39m \u001b[39mself\u001b[39m\u001b[39m.\u001b[39m_unwrap_value(\n\u001b[0;32m    323\u001b[0m         response\u001b[39m.\u001b[39mget(\u001b[39m'\u001b[39m\u001b[39mvalue\u001b[39m\u001b[39m'\u001b[39m, \u001b[39mNone\u001b[39;00m))\n\u001b[0;32m    324\u001b[0m     \u001b[39mreturn\u001b[39;00m response\n",
      "File \u001b[1;32mc:\\Users\\aspens\\AppData\\Local\\Programs\\Python\\Python38\\lib\\site-packages\\selenium\\webdriver\\remote\\errorhandler.py:242\u001b[0m, in \u001b[0;36mErrorHandler.check_response\u001b[1;34m(self, response)\u001b[0m\n\u001b[0;32m    240\u001b[0m         alert_text \u001b[39m=\u001b[39m value[\u001b[39m'\u001b[39m\u001b[39malert\u001b[39m\u001b[39m'\u001b[39m]\u001b[39m.\u001b[39mget(\u001b[39m'\u001b[39m\u001b[39mtext\u001b[39m\u001b[39m'\u001b[39m)\n\u001b[0;32m    241\u001b[0m     \u001b[39mraise\u001b[39;00m exception_class(message, screen, stacktrace, alert_text)\n\u001b[1;32m--> 242\u001b[0m \u001b[39mraise\u001b[39;00m exception_class(message, screen, stacktrace)\n",
      "\u001b[1;31mInvalidSelectorException\u001b[0m: Message: invalid selector: An invalid or illegal selector was specified\n  (Session info: chrome=108.0.5359.125)\n"
     ]
    }
   ],
   "source": [
    "from selenium.webdriver.common.keys import Keys\n",
    "\n",
    "elem = driver.find_element_by_css_selector('body > div.L3eUgb > div.o3j99.ikrT4e.om7nvf > form > div:nth-child(1) > div.A8SBwf > div.RNNXgb > div > div.a4bIc > input')\n",
    "elem.send.Keys(\"바다\")\n",
    "elem.send_Keys(Keys.RETURN)"
   ]
  }
 ],
 "metadata": {
  "kernelspec": {
   "display_name": "Python 3",
   "language": "python",
   "name": "python3"
  },
  "language_info": {
   "codemirror_mode": {
    "name": "ipython",
    "version": 3
   },
   "file_extension": ".py",
   "mimetype": "text/x-python",
   "name": "python",
   "nbconvert_exporter": "python",
   "pygments_lexer": "ipython3",
   "version": "3.8.6"
  },
  "orig_nbformat": 4,
  "vscode": {
   "interpreter": {
    "hash": "652781cf5bf96cf01d800c4641da18640b3e9584921deac1b06ffae2b63706de"
   }
  }
 },
 "nbformat": 4,
 "nbformat_minor": 2
}

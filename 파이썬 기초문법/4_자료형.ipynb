{
 "cells": [
  {
   "cell_type": "code",
   "execution_count": 4,
   "metadata": {},
   "outputs": [
    {
     "name": "stdout",
     "output_type": "stream",
     "text": [
      "[1, 2]\n",
      "[3, 4, 5]\n",
      "[3, 4]\n",
      "[1, 2, 3]\n",
      "1\n"
     ]
    }
   ],
   "source": [
    "#list\n",
    "a_list = [1,2,3,4,5]\n",
    "print(a_list[:2])  #2전까지\n",
    "print(a_list[2:])  #2후부터\n",
    "print(a_list[2:4]) #2~4까지\n",
    "\n",
    "#append는 순차적으로 삽입\n",
    "b_list = []\n",
    "b_list.append(1)\n",
    "b_list.append(2)\n",
    "b_list.append(3)\n",
    "print(b_list)\n",
    "\n",
    "#Dictionary  키 : 값 형식임\n",
    "a_dic = {'a':1, 'b':2, 'c':3}\n",
    "print(a_dic['a'])\n"
   ]
  }
 ],
 "metadata": {
  "kernelspec": {
   "display_name": "Python 3",
   "language": "python",
   "name": "python3"
  },
  "language_info": {
   "codemirror_mode": {
    "name": "ipython",
    "version": 3
   },
   "file_extension": ".py",
   "mimetype": "text/x-python",
   "name": "python",
   "nbconvert_exporter": "python",
   "pygments_lexer": "ipython3",
   "version": "3.8.6 (tags/v3.8.6:db45529, Sep 23 2020, 15:52:53) [MSC v.1927 64 bit (AMD64)]"
  },
  "orig_nbformat": 4,
  "vscode": {
   "interpreter": {
    "hash": "652781cf5bf96cf01d800c4641da18640b3e9584921deac1b06ffae2b63706de"
   }
  }
 },
 "nbformat": 4,
 "nbformat_minor": 2
}

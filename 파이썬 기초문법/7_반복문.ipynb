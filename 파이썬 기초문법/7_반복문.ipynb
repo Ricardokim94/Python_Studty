{
 "cells": [
  {
   "cell_type": "code",
   "execution_count": 2,
   "metadata": {},
   "outputs": [
    {
     "name": "stdout",
     "output_type": "stream",
     "text": [
      "홍길동 500\n",
      "김수달 2\n",
      "박해달 13\n",
      "홍길동 500\n",
      "김수달 2\n",
      "박해달 13\n"
     ]
    }
   ],
   "source": [
    "#enumerate  리스트에서 위치와 값을 가져올수 있다.\n",
    "# name_list = [\"홍길동\",\"장다인\",\"김철수\"]\n",
    "# age_list = [500,5,12]\n",
    "# for i,k in enumerate(name_list):\n",
    "#     print(\"i=\",i, end=' ')\n",
    "#     print(\"k=\", k)\n",
    "    \n",
    "    \n",
    "name_list = [\"홍길동\", \"김수달\", \"박해달\"]\n",
    "age_list = [500,2,13]\n",
    "for i,k in enumerate(name_list):\n",
    "    print(k,end=\" \")\n",
    "    print(age_list[i])\n",
    "for i,k in enumerate(age_list):\n",
    "    print(name_list[i], end=\" \")\n",
    "    print(age_list[i])"
   ]
  },
  {
   "cell_type": "markdown",
   "metadata": {},
   "source": []
  }
 ],
 "metadata": {
  "kernelspec": {
   "display_name": "Python 3",
   "language": "python",
   "name": "python3"
  },
  "language_info": {
   "codemirror_mode": {
    "name": "ipython",
    "version": 3
   },
   "file_extension": ".py",
   "mimetype": "text/x-python",
   "name": "python",
   "nbconvert_exporter": "python",
   "pygments_lexer": "ipython3",
   "version": "3.8.6 (tags/v3.8.6:db45529, Sep 23 2020, 15:52:53) [MSC v.1927 64 bit (AMD64)]"
  },
  "orig_nbformat": 4,
  "vscode": {
   "interpreter": {
    "hash": "652781cf5bf96cf01d800c4641da18640b3e9584921deac1b06ffae2b63706de"
   }
  }
 },
 "nbformat": 4,
 "nbformat_minor": 2
}

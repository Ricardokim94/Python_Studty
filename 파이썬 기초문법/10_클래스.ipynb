{
 "cells": [
  {
   "cell_type": "code",
   "execution_count": 2,
   "metadata": {},
   "outputs": [
    {
     "name": "stdout",
     "output_type": "stream",
     "text": [
      "이름:김철수 나이:{self.age} 좋아하는것:{self.like}\n",
      "이름:장다인 나이:{self.age} 좋아하는것:{self.like}\n"
     ]
    }
   ],
   "source": [
    "class Student():\n",
    "    def __init__(self, name, age, like):\n",
    "        self.name = name\n",
    "        self.age = age\n",
    "        self.lke = like\n",
    "    def studentinfo(self):\n",
    "        print(f\"이름:{self.name}\", \"나이:{self.age}\",\"좋아하는것:{self.like}\")\n",
    "김철수 = Student(\"김철수\", 17,\"축구\")\n",
    "장다인 = Student(\"장다인\", 27,\"요리\")\n",
    "\n",
    "김철수.studentinfo()\n",
    "장다인.studentinfo()   "
   ]
  }
 ],
 "metadata": {
  "kernelspec": {
   "display_name": "Python 3",
   "language": "python",
   "name": "python3"
  },
  "language_info": {
   "codemirror_mode": {
    "name": "ipython",
    "version": 3
   },
   "file_extension": ".py",
   "mimetype": "text/x-python",
   "name": "python",
   "nbconvert_exporter": "python",
   "pygments_lexer": "ipython3",
   "version": "3.8.6 (tags/v3.8.6:db45529, Sep 23 2020, 15:52:53) [MSC v.1927 64 bit (AMD64)]"
  },
  "orig_nbformat": 4,
  "vscode": {
   "interpreter": {
    "hash": "652781cf5bf96cf01d800c4641da18640b3e9584921deac1b06ffae2b63706de"
   }
  }
 },
 "nbformat": 4,
 "nbformat_minor": 2
}
